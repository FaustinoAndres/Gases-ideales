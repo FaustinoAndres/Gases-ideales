{
  "nbformat": 4,
  "nbformat_minor": 0,
  "metadata": {
    "colab": {
      "name": "Tarea 2 - Gas ideal.ipynb",
      "provenance": [],
      "collapsed_sections": [],
      "mount_file_id": "1vo1wWOTWti1e1Z8uhISl_kd-wIusQdnA",
      "authorship_tag": "ABX9TyOkYVqEIL55nXN7RKL+iiMA",
      "include_colab_link": true
    },
    "kernelspec": {
      "name": "python3",
      "display_name": "Python 3"
    },
    "language_info": {
      "name": "python"
    }
  },
  "cells": [
    {
      "cell_type": "markdown",
      "metadata": {
        "id": "view-in-github",
        "colab_type": "text"
      },
      "source": [
        "<a href=\"https://colab.research.google.com/github/FaustinoAndres/Gases-ideales/blob/main/Tarea_2_Gas_ideal.ipynb\" target=\"_parent\"><img src=\"https://colab.research.google.com/assets/colab-badge.svg\" alt=\"Open In Colab\"/></a>"
      ]
    },
    {
      "cell_type": "markdown",
      "metadata": {
        "id": "buLhnAp2lips"
      },
      "source": [
        "# Tarea 2 - Gases ideales - IPM417 - 2021/1- USM\n"
      ]
    },
    {
      "cell_type": "markdown",
      "metadata": {
        "id": "WVqNygqzlm-P"
      },
      "source": [
        "En esta tarea, realizarán simulaciones para verificar la ley de gases ideales. Sabemos que gases ideales ocurren en 3D, sin embargo, para facilitar el código, solamente consideraremos 2D, para lo cual existen relaciones equivalentes.\n",
        "\n",
        "Partan  de  una  caja  de  volumen $L^2=V$ con $N$ partículas  circulares  de  masa $m$ y  radio $r$ disupuestas aleatoriamente, todas con velocidad inicial $V_0$ en dirección aleatoria. Defina un paso de tiempo $\\Delta t$ (ojalá menor que $r/V_0$) y deje evolucionar el sistema, chequeando la colisión (elástica) entre partículas y contra las paredes. Cuando vean que dos partículas chocan (básicamente sus radios se entrelazan), actualicen la posición de ambas separándolas, y cambien susvelocidades respecto a un choque elástico$^{1,2}$. Por si quieren inspiración, hay códigos parecidos online$^{3,4}$.\n",
        "\n",
        "Realice simulaciones a diferentes valores de $V$,$N$ y $V_0$. A partir de sus simulaciones, realicen los siguientes cálculos:\n",
        "\n",
        "- Verifique  que  la  distribución  de  la  velocidad  (o  cantidad  de  movimiento,  en  cualquier componente) tiende a ser de Boltzmann. ¿Cuánto tiempo demora en pasar esto? ¿Es válido para cualquier $N$?\n",
        "- Calcule la presión a partir de las colisiones y transferencia de momentum sobre una pared.\n",
        "- Sabiendo que para gases ideales $E = Nk_{B}T$, calcule la temperatura. Verifique la ley de gases ideales para este caso bidimensional. Junto  con  su  código,  entregue  un  informe  donde  detalle  la  metodología  que  usó,  y  sus resultados (además de todas las secciones que son relevantes en un informe).\n"
      ]
    },
    {
      "cell_type": "markdown",
      "metadata": {
        "id": "tGm6BMXSltrJ"
      },
      "source": [
        "# I. Abstract"
      ]
    },
    {
      "cell_type": "markdown",
      "metadata": {
        "id": "c8Hk4wXAl9Ax"
      },
      "source": [
        "En este trabajo realizamos un gas teórico y observamos como las propiedades macroscópicas emergen de las interacciones microscópicas. Las partículas de gas cuentan con masa y volumen e interactúan entre sí y las paredes mediante choques elásticos. Demostramos que una vez alcanzado el equilibrio, la distribución de velocidades tiende a la distribución de Maxwell-Boltzmann. Además demostramos que se cumple la ecuación de estado para un gas ideal. Demostramos que las fluctuaciones decrecen a medida que aumenta el número de partículas."
      ]
    },
    {
      "cell_type": "markdown",
      "metadata": {
        "id": "cYn0ZlO2l_4X"
      },
      "source": [
        "# II. Introducción"
      ]
    },
    {
      "cell_type": "markdown",
      "metadata": {
        "id": "ttyv22zzmDdk"
      },
      "source": [
        "El gas ideal es un gas teórico compuesto por partículas puntuales, las cuales no interactúan entre ellas. Es un modelo extremadamente simple y nos entrega una ecuación de estado que relaciona las variables de presión $P$, el volumen $V$ y la temperatura $T$. La importancia de este modelo es que en condiciones normales de presión y temperatura, la mayoría de los gases reales (nitrógeno, hidrógeno, oxígeno, etc.) se comportan como gases ideales (cualitativamente), otros gases más pesados se pueden tratar como gas ideal con un error asociado, razonable. Modificando algunas de sus variables termodinámicas podremos acercarnos a un comportamiento ideal, estas variables son: La temperatura y la densidad. Recordemos que la energía de las partículas en gases ideales es solamente energía cinética (no cuentan con energía potencial debido a que no hay interacción entre ellas), esto quiere decir que si la temperatura sube, las partículas incrementan su energía cinética, por parte de la densidad, si disminuye el gas se hace menos denso, las partículas están más separadas unas de otras y con ello disminuye las fuerzas intermoleculares. En este trabajo haremos uso de computación científica para emular un gas teórico, pero más realista que el gas ideal, esto quiere decir, las partículas tendrán volumen (no serán partículas puntuales) y las partículas interactuarán entre ellas. Los objetivos de este trabajo son:\n",
        "\n",
        "- Verificar la distribución de velocidades de las partículas y que tiende a la distribución de Boltzmann.\n",
        "- Determinar la presión ejercida las partículas sobre el estanque.\n",
        "- Determinar la temperatura y energía de las partículas.\n",
        "- Verificar la ley de gases ideales."
      ]
    },
    {
      "cell_type": "markdown",
      "metadata": {
        "id": "NrNDuc8KmKdH"
      },
      "source": [
        "# III. Metodología"
      ]
    },
    {
      "cell_type": "markdown",
      "metadata": {
        "id": "NY3wc5QLmLrY"
      },
      "source": [
        "A. Descripción de un gas ideal\n",
        "\n",
        "En está sección, se describe el gas teórico utilizado y las ecuaciones que gobiernan. La simulación consiste en un estanque cerrado y adiabático, el cual contiene $N$ partículas con comportamiento clásico con posiciones $\\vec{x}_{i}$ y velocidades $\\vec{v}_{i}$. Las partículas tienen un radio $r_{i}$. La caja tiene un largo y alto de $L$, es decir, las partículas se pueden mover sobre el dominio $[0, L] \\times [0, L]$. Las partículas no ejercen fuerzas de interacción moleculares entre ellas, por lo que la energía potencial del sistema es cero, pero si interactúan por choques elásticos, esto quiere decir que sufren una fuerza instantánea que cambia sus velocidades, un cambio en su cantidad de movimiento $\\vec{p}_{i}$. Dado que las interacciones son elásticas, por lo cual se la energía del sistema se conserva (ecuación (1)).\n",
        "\n",
        "$E = \\sum_{i} \\frac{1}{2}m_{i} v_{i}^{2}$ (1)\n",
        "\n",
        "las paredes del estanque, se mueven con una velocidad constante. La trayectoria que describe este movimiento es dada por la ecuación (2):\n",
        "\n",
        "$\\vec{x}_{i}(t+\\Delta t) = \\vec{x}_{i}(t) + \\vec{v}_{i} \\Delta t$ (2)\n",
        "\n",
        "![](move.png)\n",
        "\n",
        "Cuando una partícula se encuentre con las paredes del estanque, esta se reflejará siguendo la ecuación (3), donde $\\hat{n}$ es el vector normal de la superficie, $w$ es la posición de la pared. Solo se considera reflexión especular.\n",
        "\n",
        "$\\vec{x}_{i} - r_{i} \\hat{n} = w$ (3)\n",
        "\n",
        "Debido a esta reflexión con choque elástico, la componente de la velocidad normal a la superficie cambia de dirección, es decir, invertida (ecuación (4)).\n",
        "\n",
        "$\\vec{v}_{i}^{*} = \\vec{v}_{i} - 2(\\vec{v}_{i} \\cdot \\hat{n})\\hat{n}$ (4)\n",
        "\n",
        "![](reflect_wall.png)\n",
        "\n",
        "Cuando dos partículas colisionan, ambas cambian de dirección según la ecuación (5) debido a la conservación de cantidad de movimiento.\n",
        "\n",
        "$\\vec{v}_{i}^{*} = \\vec{v}_{i} - \\frac{2 m_{j}}{m_{i}+m_{j}} \\frac{(v_{i}-v_{j})\\cdot(x_{i}-x_{j})}{||x_{i}-x_{j}||^{2}}  (x_{i}-x_{j})$ (5)\n",
        "\n",
        "$\\vec{v}_{j}^{*} = \\vec{v}_{j} - \\frac{2 m_{i}}{m_{i}+m_{j}} \\frac{(v_{j}-v_{i})\\cdot(x_{j}-x_{i})}{||x_{j}-x_{i}||^{2}}  (x_{j}-x_{i})$\n",
        "\n",
        "La colisión de ambas partículas se lleva a cabo cuando sus centros están a una distancia de $|r_{i}+r_{j}|$. En nuestro caso las partículas son de la misma especie, por tanto el contacto se lleva a cabo en $2|r|$.\n",
        "\n",
        "![](2_particles.png)\n",
        "\n",
        "Con estás ecuaciones de movimiento, se deja evolucionar el sistema un tiempo $T$. A partir de las interacciones de las partículas entre ellas y las paredes se extraen las propiedades macroscópicas del sistema.\n"
      ]
    },
    {
      "cell_type": "markdown",
      "metadata": {
        "id": "k3HBAf8FpNZE"
      },
      "source": [
        "B. Implementación\n",
        "\n",
        "En esta sección se describe como es resuelto el problema.\n",
        "\n",
        "El problema será resuelto mediante simulación computacional con el lenguaje de programación [python 3](https://www.python.org/) en un ambiente de [jupyter notebook](https://jupyter.org/) alojado en [deepnote](https://deepnote.com/).\n",
        "\n",
        "En primer lugar importaremos las librerías y paquetes necesarios para trabajar con computación científica: [numpy](https://numpy.org/) y [matplotlib](https://matplotlib.org/). Además definiremos la [constante de Boltzmann](https://es.wikipedia.org/wiki/Constante_de_Boltzmann) $k_{B}=1.380648\\times 10^{-23} \\: J/K$ como una constante en nuestro notebook."
      ]
    },
    {
      "cell_type": "code",
      "metadata": {
        "id": "2oq0OPIGe6ye"
      },
      "source": [
        "import numpy as np\n",
        "import matplotlib.pyplot as plt\n"
      ],
      "execution_count": 1,
      "outputs": []
    },
    {
      "cell_type": "code",
      "metadata": {
        "id": "H8mKTSY3O-KG"
      },
      "source": [
        "k_B = 1.380648e-23\n"
      ],
      "execution_count": 2,
      "outputs": []
    },
    {
      "cell_type": "markdown",
      "metadata": {
        "id": "-thmpv4_pfz0"
      },
      "source": [
        "Utilizaremos el concepto de programación orientada a objetos para crear las partículas que necesitemos, las cuales tendrán los mismos atributos. Utilizaremos la clase llamada `Particle` con la que crearemos una partícula de masa `m` y radio `r`. Los métodos de la clase `Particle` son los siguientes:\n",
        "\n",
        "- `__init__(self, m=0.01, r=0.1)`: Es el contructor de la clase. sus parámetros de entrada son la masa `m` de la partícula, que tiene el valor por defecto de $0.01 kg$ y el radio `r`, cuyo valor por defecto es de $0.1 m$. Además dentro de este método se inicializa el vector de posiciones `x` y el vector de velocidades `v`. Otros parámetros almacenados son el largo `L` de la caja contenedora inicializado con el valor de `None` y `boundary` que es una lista vacía para almacenar los límites de la caja.\n",
        "\n",
        "- `initial_conditions(self, v, theta, L)`: Este método inicializa a nuestra partícula, le das las condiciones iniciales del problema. Los parámetros de entrada de este método son `v` como la magnitud de la velocidad de la partícula, `theta` como el ángulo formado entre la horizontal y el vector velocidad asociado a la partícula y el largo de la caja `L`. El detalle del su implementación se presenta a continuación.\n",
        "    1. Asignar el valor de `L` a `self.L`.\n",
        "    2. Asignar una posición inicial dentro de la caja simulada, la tiene un dominio $[0,L] \\times [0, L]$. La posición es asignada de manera aleatoria siguiendo una distribución uniforme en el intervalo $[2r,L-2r] \\times [2r, L-2r]$, restringimos un poco el dominio para no oresentar el problema de superposición de posiciones de la partícula y las paredes.\n",
        "    3. Descomponer la velocidad en el eje x $v_{x} = v \\cdot cos(\\theta)$ y la velocidad en el eje y $v_{y} = v \\cdot sin(\\theta)$.\n",
        "    4. Asignar valores a `boundary`. `boundary=[0, self.L, 0, self.L]`.\n",
        "    \n",
        "- `move(self, dt)`: se refiere a actualizar la posición de la partícula después de un paso de tiempo `dt` según $\\vec{x}_{f} = \\vec{x}_{i} + \\Delta t  \\cdot \\vec{v}$.\n",
        "\n",
        "- `wall_interaction(self, dt)`: Una vez aplicada el método `move`, la partícula puede intersectar con las paredes del estanque, para ello se implementa este métod.Su función es restituir la posición de la partícula, es decir, si se detecta que una partícula está en contancto con la pared, se determina el tiempo exacto en la cual ambos están entran en contacto (cuando se cumple que la distancia entre el centro de la partícula y alguna de las paredes sea igual al radio) y se lleva a cabo el choque elástico, es decir, sin pérdidas de energía y solo transferencia de momento. La partícula rebota en la pared y se mueve el tiempo de superposición en la dirección del rebote. Para ello, se implementan un método por cada pared: izquierda, derecha, arriba y abajo:\n",
        "\n",
        "    - `wall_interaction_left(self, dt)`\n",
        "    - `wall_interaction_right(self, dt)`\n",
        "    - `wall_interaction_top(self, dt)`\n",
        "    - `wall_interaction_bottom(self, dt)`\n",
        "\n",
        "\n",
        "Una partícula que está en un tiempo $t$ cerca de la pared, y que en el paso siguiente de tiempo, es decir, $t + \\Delta t$ se encuentra superpuesta con esta. Esta situación es lo que intenta resolver `wall_interaction`.\n",
        "\n",
        "![Superposición](superposicion.png)"
      ]
    },
    {
      "cell_type": "code",
      "metadata": {
        "id": "Cs9KtcHCpd7H"
      },
      "source": [
        "class Particle():\n",
        "\n",
        "    def __init__(self, m=0.01, r=0.1):\n",
        "        self.m = m\n",
        "        self.r = r\n",
        "        self.x = np.zeros(2)\n",
        "        self.v = np.zeros(2)\n",
        "        self.L = None\n",
        "        self.boundary = list()\n",
        "\n",
        "    def initial_conditions(self, v, theta, L):\n",
        "        \n",
        "        self.L = L\n",
        "        #posiciones iniciales aleatorias dentro del dominio [0,L] X [0, L]\n",
        "        self.x[0] = np.random.uniform(2*self.r, self.L-2*self.r)\n",
        "        self.x[1] = np.random.uniform(2*self.r, self.L-2*self.r)\n",
        "        \n",
        "        #velocidades iniciales de magnitud v\n",
        "        self.v[0] = v*np.sin(theta)\n",
        "        self.v[1] = v*np.cos(theta)\n",
        "\n",
        "        self.boundary = [0, self.L, self.L, 0]\n",
        "\n",
        "    def move(self, dt):\n",
        "        self.x = self.x + dt*self.v\n",
        "\n",
        "    def wall_interaction(self, dt):\n",
        "        self.wall_interaction_left(dt)\n",
        "        self.wall_interaction_right(dt)\n",
        "        self.wall_interaction_top(dt)\n",
        "        self.wall_interaction_bottom(dt)\n",
        "\n",
        "    def wall_interaction_left(self, dt):\n",
        "        delta_x = self.x[0] - self.boundary[0]\n",
        "        if (0 <= delta_x < self.r) and (self.v[0] < 0):\n",
        "            x_superpuesto = self.r - delta_x\n",
        "            delta_t_int = x_superpuesto/np.absolute(self.v[0])\n",
        "            Delta_t_fis = dt - delta_t_int\n",
        "            self.x[0] = self.boundary[0] + self.r + np.absolute(self.v[0])*Delta_t_fis\n",
        "            self.v[0] = -self.v[0]\n",
        "\n",
        "    def wall_interaction_right(self, dt):\n",
        "        delta_x = self.boundary[2] - self.x[0] \n",
        "        if (0 <= delta_x < self.r) and (self.v[0] > 0):\n",
        "            x_superpuesto = self.r - delta_x\n",
        "            delta_t_int = x_superpuesto/np.absolute(self.v[0])\n",
        "            Delta_t_fis = dt - delta_t_int\n",
        "            self.x[0] = self.boundary[2] - (self.r + np.absolute(self.v[0])*Delta_t_fis)\n",
        "            self.v[0] = -self.v[0]\n",
        "\n",
        "    def wall_interaction_top(self, dt):\n",
        "        delta_y = self.boundary[1] - self.x[1]\n",
        "        if (0 <= delta_y < self.r) and (self.v[1] > 0):\n",
        "            y_superpuesto = self.r - delta_y\n",
        "            delta_t_int = y_superpuesto/np.absolute(self.v[1])\n",
        "            Delta_t_fis = dt - delta_t_int\n",
        "            self.x[1] = self.boundary[1] - (self.r + np.absolute(self.v[1])*Delta_t_fis)\n",
        "            self.v[1] = -self.v[1]\n",
        "\n",
        "    def wall_interaction_bottom(self, dt):\n",
        "        delta_y = self.x[1] - self.boundary[3]\n",
        "        if (0 <= delta_y < self.r) and (self.v[1] < 0):\n",
        "            y_superpuesto = self.r - delta_y\n",
        "            delta_t_int = y_superpuesto/np.absolute(self.v[1])\n",
        "            Delta_t_fis = dt - delta_t_int\n",
        "            self.x[1] = self.boundary[3] + (self.r + np.absolute(self.v[1])*Delta_t_fis)\n",
        "            self.v[1] = -self.v[1]"
      ],
      "execution_count": 3,
      "outputs": []
    },
    {
      "cell_type": "code",
      "metadata": {
        "id": "DXaZ170BpeXC"
      },
      "source": [
        "def distance(a, b):\n",
        "    dist = np.linalg.norm(a-b)\n",
        "    return dist"
      ],
      "execution_count": 4,
      "outputs": []
    },
    {
      "cell_type": "markdown",
      "metadata": {
        "id": "QOkLCZBHqaSH"
      },
      "source": [
        "Para simular el estanque con particulas, lo haremos con la clase `Domain`. Con esta clase podremos definir el tamaño del estanque `V`, el número de partículas `N`, la velocidad inicial `v`. Los métodos que cuenta `Domain` son:\n",
        "\n",
        "- `__init__(self, N=10, V=100, v=1, n_grid=4, r=0.1)`: Contructor de la clase, admite como parámetros de entrada, la cantidad de partículas `N`, el volumen del estanque `V`, la cantidad de subdivisiones `n_grid`, el radio de las partículas `r`. Se crea una lista que contiene $N$ partículas, donde cada elemento de la lista es una instancia de la clase `Particle`. Otros parámetros definidos internamente, es el largo `L` de la caja definido como $L = \\sqrt{V}$, grid, que es una lista de listas de tamaño $n_{grid} \\times n_{grid}$, para crear una malla para clasificar las partículas y reducir los tiempos de cálculo.\n",
        "\n",
        "- `set_IC(self)`: Método encargado de configurar las condiciones iniciales del estanque. Entregamos a cada partícula las condiciones iniciales usando el método `Particle.initial_conditions`. Posteriormente usamos `Domain.clustering` para agrupar las partículas en su respectivo sub conjunto de la malla. Si las particulas están sobrepuestas, se corrige con el método `Domain.particles_collisions(IC=True)`.\n",
        "\n",
        "- `dynamic(self, dt=0.01)`: Genera el movimiento de todas las partículas, corrobora si están superpuestas o si están en contacto con las paredes y realiza las correcciones de posición y velocidad.\n",
        "\n",
        "- `plot_particles(self)`: Grafica el estanque con todas las partículas en un instante dado.\n",
        "\n",
        "- `clustering(self)`: Agrupa las partículas en cada cuadrante de la malla `grid`. La idea es para reducir las interacción $N$ a $N$ ded las partículas, y solo se corrobora si hay contacto entre partículas de un mismo cuadrante.\n",
        "\n",
        "- `particles_collisions(self, IC=False)`: Recorre cada una de las cuadrículas y determina la interacción de las partículas dentro de una misma cuadrícula.\n",
        "\n",
        "- `interaction_between_particules(self, particles, IC)`: \n",
        "\n",
        "- `collision(self, particle_1, particle_2, dt_colission, dist_c)`:\n",
        "\n",
        "- `previus_step(self, particle_1, particle_2, dt=0.01)`: Reestablece el paso previo a una colisión para ser usado con el método de bisección.\n",
        "\n",
        "- `biseccion_time(self, particle_1, particle_2, dist_prev, dist, dt=0.01)`: Método iterativo, para determinar el punto exacto en el tiempo donde se produce la colisión.\n",
        "\n",
        "- `fixing_IC(self, particle_1, particle_2, dist, dt=0.01)`: \n",
        "- `density_maxwell(self)`: Grafíca la distribución de maxwell Boltzmann para un instnate dado"
      ]
    },
    {
      "cell_type": "code",
      "metadata": {
        "id": "yqPzWldSq0-S"
      },
      "source": [
        "class Domain():\n",
        "\n",
        "    def __init__(self, N=10, V=100, v=1, n_grid=4, r=0.1):\n",
        "        self.particles = [Particle() for _ in range(N)]\n",
        "        self.V = V\n",
        "        self.r = r\n",
        "        self.v = v\n",
        "        self.L = np.sqrt(V)\n",
        "        self.n_grid = n_grid\n",
        "        self.grid = [[[] for _ in range(self.n_grid)] for _ in range(self.n_grid)]\n",
        "        self.density = {}\n",
        "\n",
        "\n",
        "    def set_IC(self):\n",
        "\n",
        "        for particle in self.particles:\n",
        "            theta = np.random.uniform(0, 2*np.pi)\n",
        "            particle.initial_conditions(self.v, theta, self.L)\n",
        "        self.clustering()\n",
        "        self.particles_collisions(IC=True)\n",
        "\n",
        "    def dynamic(self, dt=0.01):\n",
        "\n",
        "        for particle in self.particles:\n",
        "            particle.move(dt)\n",
        "            particle.wall_interaction(dt)\n",
        "        self.particles_collisions(IC=False)\n",
        "\n",
        "    def plot_particles(self):\n",
        "\n",
        "        box = np.linspace(start=0, stop=self.L, num=10, endpoint=True)\n",
        "        fig = plt.figure(figsize=(10,10))\n",
        "        ax = fig.add_subplot(111)\n",
        "        test = np.linspace(start=7.5, stop=10., num=10, endpoint=True)\n",
        "        plt.fill_between(x=box, y1=self.L, y2=0, where=[True]*len(box), color='#CFFCD8',  alpha=.25)\n",
        "        plt.fill_between(x=test, y1=2.5, y2=0.0, where=[True]*len(test), color='red', alpha=.45)\n",
        "        for particle in self.particles:\n",
        "            plt.scatter(particle.x[0], particle.x[1], s=10, c='#483D8B', alpha=0.9)\n",
        "        plt.xlim([-1, self.L+1])\n",
        "        plt.ylim([-1, self.L+1])\n",
        "        ax.set_aspect('equal', adjustable='box')\n",
        "\n",
        "    def clustering(self):\n",
        "        \n",
        "        self.grid = [[[] for _ in range(self.n_grid)] for _ in range(self.n_grid)]\n",
        "\n",
        "        for particle in self.particles:\n",
        "            pos_x = int((self.n_grid)*(particle.x[0]/self.L))\n",
        "            pos_y = int((self.n_grid)*(particle.x[1]/self.L))\n",
        "            \n",
        "            self.grid[pos_y][pos_x].append(particle)\n",
        "        \n",
        "    def particles_collisions(self, IC=False):\n",
        "\n",
        "        for i in range(self.n_grid):\n",
        "            for j in range(self.n_grid):\n",
        "                particles = self.grid[i][j]\n",
        "                self.interaction_between_particules(particles, IC)\n",
        "\n",
        "    def interaction_between_particules(self, particles, IC):\n",
        "        for i in range(len(particles)):\n",
        "            for j in range(i+1, len(particles)):\n",
        "                dist = distance(particles[i].x, particles[j].x)\n",
        "                if dist <= 2*self.r:\n",
        "                    if IC == False:\n",
        "                        #print(particles[i].v, particles[j].v)\n",
        "                        dist_prev = self.previus_step(particles[i], particles[j])\n",
        "                        dist_c, dt_colission = self.biseccion_time(particles[i],particles[j],dist_prev,dist,dt=0.01)\n",
        "                        self.collision(particles[i],particles[j],dt_colission, dist_c)\n",
        "                        #print(particles[i].v, particles[j].v)\n",
        "                    else:\n",
        "                        self.fixing_IC(particles[i], particles[j], dist)\n",
        "    \n",
        "    def collision(self, particle_1, particle_2, dt_colission, dist_c):\n",
        "        particle_1.x = particle_1.x - dt_colission*particle_1.v\n",
        "        particle_2.x = particle_2.x - dt_colission*particle_2.v\n",
        "\n",
        "        v_aux = particle_1.v - particle_2.v\n",
        "        x_aux = particle_1.x - particle_2.x\n",
        "\n",
        "        particle_1.v -= np.dot(v_aux, x_aux)/(dist_c)**2 * x_aux\n",
        "        particle_2.v += np.dot(-v_aux, -x_aux)/(dist_c)**2 * x_aux\n",
        "\n",
        "    def previus_step(self, particle_1, particle_2, dt=0.01):\n",
        "        x_1_prev = particle_1.x - dt*particle_1.v\n",
        "        x_2_prev = particle_2.x - dt*particle_2.v\n",
        "        dist_prev = distance(x_1_prev, x_2_prev)\n",
        "        return dist_prev\n",
        "\n",
        "    def biseccion_time(self, particle_1, particle_2, dist_prev, dist, dt=0.01):\n",
        "\n",
        "        tol = 0.000001\n",
        "        t_a, t_b = 0.0, dt\n",
        "        f_a, f_b = dist_prev - 2*self.r, dist - 2*self.r\n",
        "        count = 0\n",
        "        while(True):\n",
        "            count += 1\n",
        "            t_c = 0.5*(t_b+t_a)\n",
        "            f_c = self.previus_step(particle_1=particle_1,particle_2=particle_2, dt=(dt - t_c)) - 2*self.r\n",
        "            if f_a*f_c < 0:\n",
        "                t_b = t_c\n",
        "                f_b = f_c\n",
        "            else:\n",
        "                t_a = t_c\n",
        "                f_a = f_c\n",
        "\n",
        "            if np.absolute(f_c)<tol or count == 500:\n",
        "                break\n",
        "        \n",
        "        t_c = 0.5*(t_b+t_a)\n",
        "        dist_c = self.previus_step(particle_1=particle_1,particle_2=particle_2, dt=(dt - t_c))\n",
        "        dt_colission = dt - t_c\n",
        "        return dist_c, dt_colission\n",
        "\n",
        "    def fixing_IC(self, particle_1, particle_2, dist, dt=0.01):\n",
        "        x_2_prev = particle_2.x + 2*self.r*(particle_2.x - particle_1.x)/dist\n",
        "        #dist_prev = distance(particle_1.x, x_2_prev)\n",
        "        particle_2.x = x_2_prev\n",
        "\n",
        "    def density_maxwell(self):\n",
        "\n",
        "        for particle in self.particles:\n",
        "\n",
        "            v = np.linalg.norm(particle.v)\n",
        "            if v not in self.density:\n",
        "                self.density[v] = 1\n",
        "            else:\n",
        "                self.density[v] += 1\n",
        "\n",
        "        particles, velocities = [], []\n",
        "        for key, value in self.density.items():\n",
        "            particles.append(value)\n",
        "            velocities.append(key)\n",
        "\n",
        "        plt.hist(velocities, bins='auto', color='#FCC7B5', rwidth=0.85)\n",
        "        plt.grid(axis='y', alpha=0.75)\n",
        "        plt.xlabel('velocidad')\n",
        "        plt.ylabel('densidad')\n",
        "        plt.xlim([0, 5.])\n",
        "        plt.show()\n"
      ],
      "execution_count": 5,
      "outputs": []
    },
    {
      "cell_type": "code",
      "metadata": {
        "colab": {
          "base_uri": "https://localhost:8080/",
          "height": 592
        },
        "id": "jjTZtvMdq_VN",
        "outputId": "ed9ed290-6794-4653-e3a1-0bdaee3684c9"
      },
      "source": [
        "domain = Domain(N=500)\n",
        "domain.set_IC()\n",
        "domain.plot_particles()"
      ],
      "execution_count": 6,
      "outputs": [
        {
          "output_type": "display_data",
          "data": {
            "image/png": "[encoded data removed]",
            "text/plain": [
              "<Figure size 720x720 with 1 Axes>"
            ]
          },
          "metadata": {
            "tags": [],
            "needs_background": "light"
          }
        }
      ]
    },
    {
      "cell_type": "code",
      "metadata": {
        "colab": {
          "base_uri": "https://localhost:8080/",
          "height": 592
        },
        "id": "aUaAgBZprG92",
        "outputId": "deaf8ed6-5ed6-4db4-aa9d-62c66fa26de0"
      },
      "source": [
        "for i in range(500):\n",
        "  if i%5 == 0:\n",
        "    domain.clustering()\n",
        "  domain.dynamic()\n",
        "domain.plot_particles()"
      ],
      "execution_count": 7,
      "outputs": [
        {
          "output_type": "display_data",
          "data": {
            "image/png": "[encoded data removed]",
            "text/plain": [
              "<Figure size 720x720 with 1 Axes>"
            ]
          },
          "metadata": {
            "tags": [],
            "needs_background": "light"
          }
        }
      ]
    },
    {
      "cell_type": "markdown",
      "metadata": {
        "id": "6_A02uWnrOfU"
      },
      "source": [
        "# IV. Resultados"
      ]
    },
    {
      "cell_type": "markdown",
      "metadata": {
        "id": "aJqdr3jIrZBK"
      },
      "source": [
        ""
      ]
    },
    {
      "cell_type": "code",
      "metadata": {
        "colab": {
          "base_uri": "https://localhost:8080/",
          "height": 279
        },
        "id": "sTGbCq_DrSga",
        "outputId": "24ca56dc-8d32-4c65-dcb2-8f6cd711ef1e"
      },
      "source": [
        "domain.density_maxwell()"
      ],
      "execution_count": 8,
      "outputs": [
        {
          "output_type": "display_data",
          "data": {
            "image/png": "[encoded data removed]",
            "text/plain": [
              "<Figure size 432x288 with 1 Axes>"
            ]
          },
          "metadata": {
            "tags": [],
            "needs_background": "light"
          }
        }
      ]
    },
    {
      "cell_type": "markdown",
      "metadata": {
        "id": "Il-YBOqqrczk"
      },
      "source": [
        "# V. Conclusiones"
      ]
    },
    {
      "cell_type": "markdown",
      "metadata": {
        "id": "gwww1M3hrib1"
      },
      "source": [
        "$^{1}$https://seanny1986.wordpress.com/2017/10/01/simulation-of-elastic-collisions-in-python/2\n",
        "\n",
        "$^{2}$https://en.wikipedia.org/wiki/Elastic\\_collision\\#Two-dimensional3\n",
        "\n",
        "$^{3}$https://github.com/jlian/2d-gas-simulator4\n",
        "\n",
        "$^{4}$https://github.com/labay11/ideal-gas-simulation"
      ]
    }
  ]
}